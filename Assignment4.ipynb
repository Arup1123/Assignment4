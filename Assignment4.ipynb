{
 "cells": [
  {
   "cell_type": "markdown",
   "id": "a4ceb364-faae-4d9b-9f50-bd41c43de6db",
   "metadata": {},
   "source": [
    "Assignemnt 4"
   ]
  },
  {
   "cell_type": "markdown",
   "id": "f566616a-9266-46a2-81d4-bbd0d47fd7e1",
   "metadata": {},
   "source": [
    "Q1. Create a python program to sort the given list of tuples based on integer value using a lambda function.\n",
    "    l=[('Sachin Tendulker',34357 ),('Ricky Ponting',27483 ),('Jack Kallis',25534 ),('Virat Kohli',24936 )]"
   ]
  },
  {
   "cell_type": "code",
   "execution_count": 2,
   "id": "db85661a-2fda-47c4-89a3-4c1b5aaae207",
   "metadata": {},
   "outputs": [
    {
     "name": "stdout",
     "output_type": "stream",
     "text": [
      "[('Virat Kohli', 24936), ('Jack Kallis', 25534), ('Ricky Ponting', 27483), ('Sachin Tendulker', 34357)]\n"
     ]
    }
   ],
   "source": [
    "#Ans:\n",
    "l=[('Sachin Tendulker',34357 ),('Ricky Ponting',27483 ),('Jack Kallis',25534 ),('Virat Kohli',24936 )]\n",
    "m=sorted(l,key=lambda i:i[1])\n",
    "print(m)"
   ]
  },
  {
   "cell_type": "markdown",
   "id": "97db14ea-dd07-48d7-9789-feb4c766fac2",
   "metadata": {},
   "source": [
    "Q2. Write a python program to find the squares of all the numbers in the given list of integers \n",
    "    using lambda and map functions.\n",
    "    [1,2,3,4,5,6,7,8,9,10]"
   ]
  },
  {
   "cell_type": "code",
   "execution_count": 7,
   "id": "7aa74427-bebf-4e2f-b943-da5feb9c5874",
   "metadata": {},
   "outputs": [
    {
     "name": "stdout",
     "output_type": "stream",
     "text": [
      "[1, 4, 9, 16, 25, 36, 49, 64, 81, 100]\n"
     ]
    }
   ],
   "source": [
    "#Ans:\n",
    "l1= [1,2,3,4,5,6,7,8,9,10]\n",
    "a=list(map(lambda x:x**2,l1))\n",
    "print(a)"
   ]
  },
  {
   "cell_type": "markdown",
   "id": "43689ad6-05e6-4aca-81e4-945443743c52",
   "metadata": {},
   "source": [
    "Q3. Write a python program to convert the given list of integers into a tuple of strings. Use map and lambda functions.\n",
    "    Given string: [1,2,3,4,5,6,7,8,9,10]"
   ]
  },
  {
   "cell_type": "code",
   "execution_count": 13,
   "id": "abf38d85-8bd3-4fb7-86d6-dc64b078be2e",
   "metadata": {},
   "outputs": [
    {
     "name": "stdout",
     "output_type": "stream",
     "text": [
      "('1', '2', '3', '4', '5', '6', '7', '8', '9', '10')\n"
     ]
    }
   ],
   "source": [
    "#Ans:\n",
    "l2=[1,2,3,4,5,6,7,8,9,10]\n",
    "b=tuple(map(lambda i:str(i),l2))\n",
    "print(b)"
   ]
  },
  {
   "cell_type": "markdown",
   "id": "f62a267c-0569-46ba-b3e1-1cbfdde7c7ed",
   "metadata": {},
   "source": [
    "Q4. Write a python program using reduce function to compute the product of a list containing numbers from 1 to 25."
   ]
  },
  {
   "cell_type": "code",
   "execution_count": 20,
   "id": "4880cddd-6760-40ae-a12c-d790e8bbca85",
   "metadata": {},
   "outputs": [
    {
     "name": "stdout",
     "output_type": "stream",
     "text": [
      "15511210043330985984000000\n"
     ]
    }
   ],
   "source": [
    "#Ans:\n",
    "from functools import reduce\n",
    "l3=[i for i in range(1,26)]\n",
    "c=reduce(lambda x,y:x*y,l3)\n",
    "print(c)"
   ]
  },
  {
   "cell_type": "markdown",
   "id": "9c6e9b06-dc8f-4cd2-995e-50869d05f34d",
   "metadata": {},
   "source": [
    "Q5. Write a python program to filter the numbers in a given list that that are divisible by 2 and 3 using the \n",
    "    filter function.\n",
    "    [2,3,6,9,27,60,90,120,55,46]"
   ]
  },
  {
   "cell_type": "code",
   "execution_count": 27,
   "id": "33a8b1e9-5b73-4a7f-ad8e-f44ba5c6c8d4",
   "metadata": {},
   "outputs": [
    {
     "name": "stdout",
     "output_type": "stream",
     "text": [
      "[6, 60, 90, 120]\n"
     ]
    }
   ],
   "source": [
    "#Ans:\n",
    "l4=[2,3,6,9,27,60,90,120,55,46]\n",
    "d=list(filter(lambda x:x if x%2==0 and x%3==0 else None,l4))\n",
    "print(d)"
   ]
  },
  {
   "cell_type": "markdown",
   "id": "d36da9ec-ed88-4b8a-890b-975bdfde3e88",
   "metadata": {},
   "source": [
    "Q6. Write a python program to find palindrome in the given list of strings using lambda and filter function.\n",
    "    ['python','php','aba','radar','level']"
   ]
  },
  {
   "cell_type": "code",
   "execution_count": 32,
   "id": "1107699c-6975-4638-9e84-c94bd217c93d",
   "metadata": {},
   "outputs": [
    {
     "name": "stdout",
     "output_type": "stream",
     "text": [
      "['php', 'aba', 'radar', 'level']\n"
     ]
    }
   ],
   "source": [
    "#Ans:\n",
    "l5=['python','php','aba','radar','level']\n",
    "e=list(filter(lambda x:x if x==x[ : :-1] else None,l5))\n",
    "print(e)"
   ]
  },
  {
   "cell_type": "code",
   "execution_count": null,
   "id": "163e0b3b-5b6e-4562-b64f-21f88cc9de53",
   "metadata": {},
   "outputs": [],
   "source": []
  }
 ],
 "metadata": {
  "kernelspec": {
   "display_name": "Python 3 (ipykernel)",
   "language": "python",
   "name": "python3"
  },
  "language_info": {
   "codemirror_mode": {
    "name": "ipython",
    "version": 3
   },
   "file_extension": ".py",
   "mimetype": "text/x-python",
   "name": "python",
   "nbconvert_exporter": "python",
   "pygments_lexer": "ipython3",
   "version": "3.10.8"
  }
 },
 "nbformat": 4,
 "nbformat_minor": 5
}
